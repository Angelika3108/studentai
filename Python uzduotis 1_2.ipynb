{
 "cells": [
  {
   "cell_type": "markdown",
   "id": "bbc06b2e",
   "metadata": {},
   "source": [
    "1 Užduotis – Studentai - pirma dalis.\n",
    "\n",
    "Duomenų failo eilutės pvz:\n",
    "Simas,Simaitis,8 5 6 8 9 10 10 9 8 9 10\n",
    "Jonas Jonaitis,5 5 6 8 9 8 10 8 9 19 3\n",
    "Ir t.t.\n",
    "\n",
    "• Nuskaitykite studentų duomenų failo studentai.txt duomenis ir suformuokite iš jų\n",
    "sąrašą - list."
   ]
  },
  {
   "cell_type": "code",
   "execution_count": null,
   "id": "5a4fdbdb",
   "metadata": {},
   "outputs": [
    {
     "name": "stdout",
     "output_type": "stream",
     "text": [
      "{'vardas': 'Simas', 'pavarde': 'Simaitis', 'pazymiai': [8, 5, 6, 8, 9, 10, 10, 9, 8, 9, 10], 'vidurkis': 8.4}\n",
      "{'vardas': 'Jonas', 'pavarde': 'Jonaitis', 'pazymiai': [5, 5, 6, 8, 9, 8, 10, 8, 9, 10, 3], 'vidurkis': 7.4}\n",
      "{'vardas': 'Rokas', 'pavarde': 'Rokaitis', 'pazymiai': [4, 2, 3, 4, 5, 5, 2, 3], 'vidurkis': 3.5}\n",
      "{'vardas': 'Linas', 'pavarde': 'Linaitis', 'pazymiai': [6, 7, 8, 9, 10, 8, 9, 5, 6, 2, 10], 'vidurkis': 7.3}\n",
      "{'vardas': 'Aukse', 'pavarde': 'Auksaite', 'pazymiai': [9, 10, 8, 8, 10, 8, 9, 9, 9], 'vidurkis': 8.9}\n",
      "{'vardas': 'Karolina', 'pavarde': 'Karolaite', 'pazymiai': [2, 3, 5, 6, 2, 3, 6, 4], 'vidurkis': 3.9}\n",
      "{'vardas': 'Laimis', 'pavarde': 'Laimonaitis', 'pazymiai': [9, 10, 8, 8, 10, 8, 9, 9, 9], 'vidurkis': 8.9}\n",
      "{'vardas': 'Mantas', 'pavarde': 'Mantaitis', 'pazymiai': [10, 9, 8, 7, 6, 5, 7, 8, 9, 10, 8], 'vidurkis': 7.9}\n",
      "{'vardas': 'Ieva', 'pavarde': 'Ievaite', 'pazymiai': [6, 6, 7, 5, 5, 4, 6, 7, 6, 6], 'vidurkis': 5.8}\n",
      "{'vardas': 'Tomas', 'pavarde': 'Tomaitis', 'pazymiai': [3, 4, 2, 3, 4, 3, 2, 1, 5], 'vidurkis': 3.0}\n",
      "{'vardas': 'Greta', 'pavarde': 'Gretaitė', 'pazymiai': [10, 9, 10, 9, 10, 10, 10, 10], 'vidurkis': 9.8}\n",
      "{'vardas': 'Dainius', 'pavarde': 'Dainiukas', 'pazymiai': [6, 5, 6, 7, 8, 6, 7, 5, 6], 'vidurkis': 6.2}\n",
      "{'vardas': 'Gabija', 'pavarde': 'Gabijaite', 'pazymiai': [9, 8, 7, 9, 10, 9, 10, 9, 8, 9], 'vidurkis': 8.8}\n",
      "{'vardas': 'Tautvydas', 'pavarde': 'Tautvydaitis', 'pazymiai': [5, 5, 4, 4, 5, 6, 5, 4, 5], 'vidurkis': 4.8}\n",
      "{'vardas': 'Agnė', 'pavarde': 'Agnaitė', 'pazymiai': [2, 3, 4, 5, 2, 1, 2, 2], 'vidurkis': 2.6}\n",
      "{'vardas': 'Egidijus', 'pavarde': 'Egidaitis', 'pazymiai': [8, 8, 9, 9, 10, 10, 9, 8], 'vidurkis': 8.9}\n",
      "{'vardas': 'Dovilė', 'pavarde': 'Dovilaite', 'pazymiai': [6, 7, 6, 6, 5, 6, 5, 5], 'vidurkis': 5.8}\n",
      "{'vardas': 'Aurimas', 'pavarde': 'Aurimaitis', 'pazymiai': [4, 4, 3, 4, 5, 3, 4, 3, 2, 4], 'vidurkis': 3.6}\n",
      "{'vardas': 'Justė', 'pavarde': 'Justaite', 'pazymiai': [7, 6, 7, 8, 9, 9, 10, 10], 'vidurkis': 8.2}\n",
      "{'vardas': 'Paulius', 'pavarde': 'Paulaitis', 'pazymiai': [5, 5, 5, 5, 5, 5, 5, 5, 5], 'vidurkis': 5.0}\n",
      "{'vardas': 'Monika', 'pavarde': 'Monikaite', 'pazymiai': [9, 10, 10, 9, 8, 9, 9, 10], 'vidurkis': 9.2}\n",
      "{'vardas': 'Domas', 'pavarde': 'Domaitis', 'pazymiai': [2, 2, 3, 1, 2, 3, 2], 'vidurkis': 2.1}\n",
      "{'vardas': 'Rūta', 'pavarde': 'Rutaitė', 'pazymiai': [7, 8, 7, 6, 5, 6, 7, 6], 'vidurkis': 6.5}\n",
      "{'vardas': 'Nerijus', 'pavarde': 'Nerijaitis', 'pazymiai': [8, 9, 8, 7, 8, 9, 9, 9], 'vidurkis': 8.4}\n",
      "{'vardas': 'Ernestas', 'pavarde': 'Ernaitis', 'pazymiai': [6, 5, 4, 4, 5, 5, 5, 6], 'vidurkis': 5.0}\n",
      "{'vardas': 'Aistė', 'pavarde': 'Aistaite', 'pazymiai': [3, 3, 2, 1, 2, 3, 2, 3, 2], 'vidurkis': 2.3}\n",
      "{'vardas': 'Titas', 'pavarde': 'Titaitis', 'pazymiai': [10, 9, 10, 10, 10, 10, 10, 9, 10], 'vidurkis': 9.8}\n",
      "{'vardas': 'Aurelija', 'pavarde': 'Aurelaitė', 'pazymiai': [5, 5, 6, 6, 7, 6, 5, 4, 5], 'vidurkis': 5.4}\n",
      "{'vardas': 'Martynas', 'pavarde': 'Martynaitis', 'pazymiai': [8, 9, 8, 7, 6, 7, 6, 6, 7], 'vidurkis': 7.1}\n",
      "{'vardas': 'Lina', 'pavarde': 'Linaitė', 'pazymiai': [4, 4, 3, 3, 4, 3, 4, 3], 'vidurkis': 3.5}\n",
      "{'vardas': 'Raminta', 'pavarde': 'Ramintaite', 'pazymiai': [9, 9, 8, 8, 9, 8, 9, 9], 'vidurkis': 8.6}\n",
      "{'vardas': 'Giedrius', 'pavarde': 'Giedraitis', 'pazymiai': [7, 6, 5, 6, 7, 6, 5, 6], 'vidurkis': 6.0}\n",
      "{'vardas': 'Vilija', 'pavarde': 'Vilijaitė', 'pazymiai': [10, 10, 10, 10, 10, 9, 10, 10], 'vidurkis': 9.9}\n",
      "{'vardas': 'Arnas', 'pavarde': 'Arnaitis', 'pazymiai': [1, 1, 2, 2, 1, 2, 2, 3, 2], 'vidurkis': 1.8}\n",
      "{'vardas': 'Kotryna', 'pavarde': 'Kotrynaitė', 'pazymiai': [6, 7, 6, 5, 5, 6, 6, 5], 'vidurkis': 5.8}\n",
      "{'vardas': 'Miglė', 'pavarde': 'Miglaite', 'pazymiai': [4, 3, 4, 5, 4, 3, 4], 'vidurkis': 3.9}\n",
      "{'vardas': 'Jurgis', 'pavarde': 'Jurgaitis', 'pazymiai': [9, 8, 9, 9, 9, 10, 10, 9], 'vidurkis': 9.1}\n",
      "{'vardas': 'Viltė', 'pavarde': 'Viltaite', 'pazymiai': [8, 9, 10, 9, 8, 9, 10], 'vidurkis': 9.0}\n",
      "{'vardas': 'Mindaugas', 'pavarde': 'Mindaugaitis', 'pazymiai': [6, 7, 8, 9, 8, 7, 6, 6], 'vidurkis': 7.1}\n",
      "{'vardas': 'Sandra', 'pavarde': 'Sandraitė', 'pazymiai': [3, 2, 3, 2, 3, 3, 4], 'vidurkis': 2.9}\n",
      "{'vardas': 'Žygimantas', 'pavarde': 'Zygis', 'pazymiai': [9, 10, 9, 10, 9, 10, 10, 9], 'vidurkis': 9.5}\n",
      "{'vardas': 'Ema', 'pavarde': 'Emaitė', 'pazymiai': [5, 5, 6, 6, 5, 6, 6, 6], 'vidurkis': 5.6}\n",
      "{'vardas': 'Kęstutis', 'pavarde': 'Kestas', 'pazymiai': [2, 1, 1, 1, 2, 2, 1, 1], 'vidurkis': 1.4}\n",
      "{'vardas': 'Vaida', 'pavarde': 'Vaidaitė', 'pazymiai': [7, 6, 7, 8, 7, 6, 7], 'vidurkis': 6.9}\n",
      "{'vardas': 'Irmantas', 'pavarde': 'Irmantaitis', 'pazymiai': [10, 9, 9, 10, 9, 10, 10], 'vidurkis': 9.6}\n",
      "{'vardas': 'Odeta', 'pavarde': 'Odetaitė', 'pazymiai': [6, 7, 6, 6, 5, 6, 5, 6], 'vidurkis': 5.9}\n",
      "{'vardas': 'Saulius', 'pavarde': 'Sauliutis', 'pazymiai': [4, 4, 5, 5, 5, 4, 5], 'vidurkis': 4.6}\n",
      "{'vardas': 'Neringa', 'pavarde': 'Neringaitė', 'pazymiai': [3, 3, 2, 3, 3, 2, 2], 'vidurkis': 2.6}\n",
      "{'vardas': 'Gediminas', 'pavarde': 'Gedas', 'pazymiai': [7, 8, 9, 8, 7, 8, 9], 'vidurkis': 8.0}\n",
      "{'vardas': 'Aivaras', 'pavarde': 'Aivaraitis', 'pazymiai': [6, 5, 6, 6, 5, 6, 6], 'vidurkis': 5.7}\n",
      "{'vardas': 'Salomėja', 'pavarde': 'Salomėjaite', 'pazymiai': [10, 10, 9, 10, 10, 10, 10], 'vidurkis': 9.9}\n"
     ]
    }
   ],
   "source": [
    "# Jonas Jonaitis turejo P10  19?  pakeiciau i 10\n",
    "studentai = []\n",
    "\n",
    "with open('Studentai_uzd1_2.txt', encoding=\"utf8\") as failas:\n",
    "    for eilute in failas:\n",
    "        eilute = eilute.rstrip('\\n')  # issiskiria kiekviena nauja eilute i list\n",
    "        isskaidyta = eilute.split(',') # isskaido eilutes teksta pagal kablelius\n",
    "        #print(isskaidyta)\n",
    " \n",
    "        studentas = dict(\n",
    "            vardas = isskaidyta[0],\n",
    "            pavarde = isskaidyta[1],\n",
    "            pazymiai = isskaidyta[2] # cia pazymiai yra string\n",
    "            )\n",
    "        studentai.append(studentas)\n",
    "\n",
    "studentai.pop(0)  # pirma eilute nutrinam nes ten yra antraste\n",
    "        \n",
    "for studentas in studentai:\n",
    "    pazymiai = list(map(int, studentas['pazymiai'].split())) # pakeicia pazymius i int ir ideda i lista\n",
    "    vidurkis = round(sum(pazymiai) / len(pazymiai), 1)\n",
    "    studentas['vidurkis'] = vidurkis\n",
    "    studentas['pazymiai'] = pazymiai\n",
    "\n",
    "# print(studentai)\n",
    "for studentas in studentai:\n",
    "    print(studentas)"
   ]
  },
  {
   "cell_type": "markdown",
   "id": "6ef1b06c",
   "metadata": {},
   "source": [
    "• Apsiskaičiuokite kiekvieno studento vidurkį ir prie vidurkio nurodykite jei vidurkis\n",
    "teigiamas >=5 studentui leidžiama laikyti egzaminą, o je neigiamas <5 laikyti\n",
    "egzamino studentui neįleidžiama.\n",
    "\n",
    "• Išveskite atskirose eilutėse gražiai suformuotą informaciją apie studentus"
   ]
  },
  {
   "cell_type": "code",
   "execution_count": 80,
   "id": "5131b544",
   "metadata": {},
   "outputs": [
    {
     "name": "stdout",
     "output_type": "stream",
     "text": [
      "Studento Simas Simaitis vidurkis 8.4, jam leidziama laikyti egzamina\n",
      "Studento Jonas Jonaitis vidurkis 7.4, jam leidziama laikyti egzamina\n",
      "Studento Rokas Rokaitis vidurkis 3.5, jam neleidziama laikyti egzamina\n",
      "Studento Linas Linaitis vidurkis 7.3, jam leidziama laikyti egzamina\n",
      "Studento Aukse Auksaite vidurkis 8.9, jam leidziama laikyti egzamina\n",
      "Studento Karolina Karolaite vidurkis 3.9, jam neleidziama laikyti egzamina\n",
      "Studento Laimis Laimonaitis vidurkis 8.9, jam leidziama laikyti egzamina\n",
      "Studento Mantas Mantaitis vidurkis 7.9, jam leidziama laikyti egzamina\n",
      "Studento Ieva Ievaite vidurkis 5.8, jam leidziama laikyti egzamina\n",
      "Studento Tomas Tomaitis vidurkis 3.0, jam neleidziama laikyti egzamina\n",
      "Studento Greta Gretaitė vidurkis 9.8, jam leidziama laikyti egzamina\n",
      "Studento Dainius Dainiukas vidurkis 6.2, jam leidziama laikyti egzamina\n",
      "Studento Gabija Gabijaite vidurkis 8.8, jam leidziama laikyti egzamina\n",
      "Studento Tautvydas Tautvydaitis vidurkis 4.8, jam neleidziama laikyti egzamina\n",
      "Studento Agnė Agnaitė vidurkis 2.6, jam neleidziama laikyti egzamina\n",
      "Studento Egidijus Egidaitis vidurkis 8.9, jam leidziama laikyti egzamina\n",
      "Studento Dovilė Dovilaite vidurkis 5.8, jam leidziama laikyti egzamina\n",
      "Studento Aurimas Aurimaitis vidurkis 3.6, jam neleidziama laikyti egzamina\n",
      "Studento Justė Justaite vidurkis 8.2, jam leidziama laikyti egzamina\n",
      "Studento Paulius Paulaitis vidurkis 5.0, jam leidziama laikyti egzamina\n",
      "Studento Monika Monikaite vidurkis 9.2, jam leidziama laikyti egzamina\n",
      "Studento Domas Domaitis vidurkis 2.1, jam neleidziama laikyti egzamina\n",
      "Studento Rūta Rutaitė vidurkis 6.5, jam leidziama laikyti egzamina\n",
      "Studento Nerijus Nerijaitis vidurkis 8.4, jam leidziama laikyti egzamina\n",
      "Studento Ernestas Ernaitis vidurkis 5.0, jam leidziama laikyti egzamina\n",
      "Studento Aistė Aistaite vidurkis 2.3, jam neleidziama laikyti egzamina\n",
      "Studento Titas Titaitis vidurkis 9.8, jam leidziama laikyti egzamina\n",
      "Studento Aurelija Aurelaitė vidurkis 5.4, jam leidziama laikyti egzamina\n",
      "Studento Martynas Martynaitis vidurkis 7.1, jam leidziama laikyti egzamina\n",
      "Studento Lina Linaitė vidurkis 3.5, jam neleidziama laikyti egzamina\n",
      "Studento Raminta Ramintaite vidurkis 8.6, jam leidziama laikyti egzamina\n",
      "Studento Giedrius Giedraitis vidurkis 6.0, jam leidziama laikyti egzamina\n",
      "Studento Vilija Vilijaitė vidurkis 9.9, jam leidziama laikyti egzamina\n",
      "Studento Arnas Arnaitis vidurkis 1.8, jam neleidziama laikyti egzamina\n",
      "Studento Kotryna Kotrynaitė vidurkis 5.8, jam leidziama laikyti egzamina\n",
      "Studento Miglė Miglaite vidurkis 3.9, jam neleidziama laikyti egzamina\n",
      "Studento Jurgis Jurgaitis vidurkis 9.1, jam leidziama laikyti egzamina\n",
      "Studento Viltė Viltaite vidurkis 9.0, jam leidziama laikyti egzamina\n",
      "Studento Mindaugas Mindaugaitis vidurkis 7.1, jam leidziama laikyti egzamina\n",
      "Studento Sandra Sandraitė vidurkis 2.9, jam neleidziama laikyti egzamina\n",
      "Studento Žygimantas Zygis vidurkis 9.5, jam leidziama laikyti egzamina\n",
      "Studento Ema Emaitė vidurkis 5.6, jam leidziama laikyti egzamina\n",
      "Studento Kęstutis Kestas vidurkis 1.4, jam neleidziama laikyti egzamina\n",
      "Studento Vaida Vaidaitė vidurkis 6.9, jam leidziama laikyti egzamina\n",
      "Studento Irmantas Irmantaitis vidurkis 9.6, jam leidziama laikyti egzamina\n",
      "Studento Odeta Odetaitė vidurkis 5.9, jam leidziama laikyti egzamina\n",
      "Studento Saulius Sauliutis vidurkis 4.6, jam neleidziama laikyti egzamina\n",
      "Studento Neringa Neringaitė vidurkis 2.6, jam neleidziama laikyti egzamina\n",
      "Studento Gediminas Gedas vidurkis 8.0, jam leidziama laikyti egzamina\n",
      "Studento Aivaras Aivaraitis vidurkis 5.7, jam leidziama laikyti egzamina\n",
      "Studento Salomėja Salomėjaite vidurkis 9.9, jam leidziama laikyti egzamina\n",
      "---------------------------------------------\n",
      "Leido laikyti egzamina 36 studentams\n",
      "Neleido laikyti egzamina 15 studentams\n"
     ]
    }
   ],
   "source": [
    "leido=0\n",
    "neleido=0\n",
    "for studentas in studentai:\n",
    "    if studentas['vidurkis'] >= 5:\n",
    "        studentas['Egzaminas']='leidziama'\n",
    "        leido+=1\n",
    "    else:\n",
    "        studentas['Egzaminas']='neleidziama'\n",
    "        neleido+=1\n",
    "#print(studentai)\n",
    "for studentas in studentai:\n",
    "    print(f'Studento {studentas[\"vardas\"]} {studentas[\"pavarde\"]} vidurkis {studentas[\"vidurkis\"]}, jam {studentas[\"Egzaminas\"]} laikyti egzamina')\n",
    "print('---------------------------------------------')\n",
    "print(f'Leido laikyti egzamina {leido} studentams')\n",
    "print(f'Neleido laikyti egzamina {neleido} studentams')"
   ]
  },
  {
   "cell_type": "markdown",
   "id": "2c6d7e85",
   "metadata": {},
   "source": [
    "Sukurkite funkciją su parametrais duomenų nuskaitymui iš failo ir sąrašo - list\n",
    "suformavimui."
   ]
  },
  {
   "cell_type": "code",
   "execution_count": 81,
   "id": "fea07fe1",
   "metadata": {},
   "outputs": [
    {
     "name": "stdout",
     "output_type": "stream",
     "text": [
      "{'vardas': 'Simas', 'pavarde': 'Simaitis', 'pazymiai': [8, 5, 6, 8, 9, 10, 10, 9, 8, 9, 10]}\n",
      "{'vardas': 'Jonas', 'pavarde': 'Jonaitis', 'pazymiai': [5, 5, 6, 8, 9, 8, 10, 8, 9, 10, 3]}\n",
      "{'vardas': 'Rokas', 'pavarde': 'Rokaitis', 'pazymiai': [4, 2, 3, 4, 5, 5, 2, 3]}\n",
      "{'vardas': 'Linas', 'pavarde': 'Linaitis', 'pazymiai': [6, 7, 8, 9, 10, 8, 9, 5, 6, 2, 10]}\n",
      "{'vardas': 'Aukse', 'pavarde': 'Auksaite', 'pazymiai': [9, 10, 8, 8, 10, 8, 9, 9, 9]}\n",
      "{'vardas': 'Karolina', 'pavarde': 'Karolaite', 'pazymiai': [2, 3, 5, 6, 2, 3, 6, 4]}\n",
      "{'vardas': 'Laimis', 'pavarde': 'Laimonaitis', 'pazymiai': [9, 10, 8, 8, 10, 8, 9, 9, 9]}\n",
      "{'vardas': 'Mantas', 'pavarde': 'Mantaitis', 'pazymiai': [10, 9, 8, 7, 6, 5, 7, 8, 9, 10, 8]}\n",
      "{'vardas': 'Ieva', 'pavarde': 'Ievaite', 'pazymiai': [6, 6, 7, 5, 5, 4, 6, 7, 6, 6]}\n",
      "{'vardas': 'Tomas', 'pavarde': 'Tomaitis', 'pazymiai': [3, 4, 2, 3, 4, 3, 2, 1, 5]}\n",
      "{'vardas': 'Greta', 'pavarde': 'Gretaitė', 'pazymiai': [10, 9, 10, 9, 10, 10, 10, 10]}\n",
      "{'vardas': 'Dainius', 'pavarde': 'Dainiukas', 'pazymiai': [6, 5, 6, 7, 8, 6, 7, 5, 6]}\n",
      "{'vardas': 'Gabija', 'pavarde': 'Gabijaite', 'pazymiai': [9, 8, 7, 9, 10, 9, 10, 9, 8, 9]}\n",
      "{'vardas': 'Tautvydas', 'pavarde': 'Tautvydaitis', 'pazymiai': [5, 5, 4, 4, 5, 6, 5, 4, 5]}\n",
      "{'vardas': 'Agnė', 'pavarde': 'Agnaitė', 'pazymiai': [2, 3, 4, 5, 2, 1, 2, 2]}\n",
      "{'vardas': 'Egidijus', 'pavarde': 'Egidaitis', 'pazymiai': [8, 8, 9, 9, 10, 10, 9, 8]}\n",
      "{'vardas': 'Dovilė', 'pavarde': 'Dovilaite', 'pazymiai': [6, 7, 6, 6, 5, 6, 5, 5]}\n",
      "{'vardas': 'Aurimas', 'pavarde': 'Aurimaitis', 'pazymiai': [4, 4, 3, 4, 5, 3, 4, 3, 2, 4]}\n",
      "{'vardas': 'Justė', 'pavarde': 'Justaite', 'pazymiai': [7, 6, 7, 8, 9, 9, 10, 10]}\n",
      "{'vardas': 'Paulius', 'pavarde': 'Paulaitis', 'pazymiai': [5, 5, 5, 5, 5, 5, 5, 5, 5]}\n",
      "{'vardas': 'Monika', 'pavarde': 'Monikaite', 'pazymiai': [9, 10, 10, 9, 8, 9, 9, 10]}\n",
      "{'vardas': 'Domas', 'pavarde': 'Domaitis', 'pazymiai': [2, 2, 3, 1, 2, 3, 2]}\n",
      "{'vardas': 'Rūta', 'pavarde': 'Rutaitė', 'pazymiai': [7, 8, 7, 6, 5, 6, 7, 6]}\n",
      "{'vardas': 'Nerijus', 'pavarde': 'Nerijaitis', 'pazymiai': [8, 9, 8, 7, 8, 9, 9, 9]}\n",
      "{'vardas': 'Ernestas', 'pavarde': 'Ernaitis', 'pazymiai': [6, 5, 4, 4, 5, 5, 5, 6]}\n",
      "{'vardas': 'Aistė', 'pavarde': 'Aistaite', 'pazymiai': [3, 3, 2, 1, 2, 3, 2, 3, 2]}\n",
      "{'vardas': 'Titas', 'pavarde': 'Titaitis', 'pazymiai': [10, 9, 10, 10, 10, 10, 10, 9, 10]}\n",
      "{'vardas': 'Aurelija', 'pavarde': 'Aurelaitė', 'pazymiai': [5, 5, 6, 6, 7, 6, 5, 4, 5]}\n",
      "{'vardas': 'Martynas', 'pavarde': 'Martynaitis', 'pazymiai': [8, 9, 8, 7, 6, 7, 6, 6, 7]}\n",
      "{'vardas': 'Lina', 'pavarde': 'Linaitė', 'pazymiai': [4, 4, 3, 3, 4, 3, 4, 3]}\n",
      "{'vardas': 'Raminta', 'pavarde': 'Ramintaite', 'pazymiai': [9, 9, 8, 8, 9, 8, 9, 9]}\n",
      "{'vardas': 'Giedrius', 'pavarde': 'Giedraitis', 'pazymiai': [7, 6, 5, 6, 7, 6, 5, 6]}\n",
      "{'vardas': 'Vilija', 'pavarde': 'Vilijaitė', 'pazymiai': [10, 10, 10, 10, 10, 9, 10, 10]}\n",
      "{'vardas': 'Arnas', 'pavarde': 'Arnaitis', 'pazymiai': [1, 1, 2, 2, 1, 2, 2, 3, 2]}\n",
      "{'vardas': 'Kotryna', 'pavarde': 'Kotrynaitė', 'pazymiai': [6, 7, 6, 5, 5, 6, 6, 5]}\n",
      "{'vardas': 'Miglė', 'pavarde': 'Miglaite', 'pazymiai': [4, 3, 4, 5, 4, 3, 4]}\n",
      "{'vardas': 'Jurgis', 'pavarde': 'Jurgaitis', 'pazymiai': [9, 8, 9, 9, 9, 10, 10, 9]}\n",
      "{'vardas': 'Viltė', 'pavarde': 'Viltaite', 'pazymiai': [8, 9, 10, 9, 8, 9, 10]}\n",
      "{'vardas': 'Mindaugas', 'pavarde': 'Mindaugaitis', 'pazymiai': [6, 7, 8, 9, 8, 7, 6, 6]}\n",
      "{'vardas': 'Sandra', 'pavarde': 'Sandraitė', 'pazymiai': [3, 2, 3, 2, 3, 3, 4]}\n",
      "{'vardas': 'Žygimantas', 'pavarde': 'Zygis', 'pazymiai': [9, 10, 9, 10, 9, 10, 10, 9]}\n",
      "{'vardas': 'Ema', 'pavarde': 'Emaitė', 'pazymiai': [5, 5, 6, 6, 5, 6, 6, 6]}\n",
      "{'vardas': 'Kęstutis', 'pavarde': 'Kestas', 'pazymiai': [2, 1, 1, 1, 2, 2, 1, 1]}\n",
      "{'vardas': 'Vaida', 'pavarde': 'Vaidaitė', 'pazymiai': [7, 6, 7, 8, 7, 6, 7]}\n",
      "{'vardas': 'Irmantas', 'pavarde': 'Irmantaitis', 'pazymiai': [10, 9, 9, 10, 9, 10, 10]}\n",
      "{'vardas': 'Odeta', 'pavarde': 'Odetaitė', 'pazymiai': [6, 7, 6, 6, 5, 6, 5, 6]}\n",
      "{'vardas': 'Saulius', 'pavarde': 'Sauliutis', 'pazymiai': [4, 4, 5, 5, 5, 4, 5]}\n",
      "{'vardas': 'Neringa', 'pavarde': 'Neringaitė', 'pazymiai': [3, 3, 2, 3, 3, 2, 2]}\n",
      "{'vardas': 'Gediminas', 'pavarde': 'Gedas', 'pazymiai': [7, 8, 9, 8, 7, 8, 9]}\n",
      "{'vardas': 'Aivaras', 'pavarde': 'Aivaraitis', 'pazymiai': [6, 5, 6, 6, 5, 6, 6]}\n",
      "{'vardas': 'Salomėja', 'pavarde': 'Salomėjaite', 'pazymiai': [10, 10, 9, 10, 10, 10, 10]}\n"
     ]
    }
   ],
   "source": [
    "def nuskaitymas(document):\n",
    "    studentai = []\n",
    "    with open(document, encoding=\"utf8\") as failas:\n",
    "        for eilute in failas:\n",
    "            eilute = eilute.rstrip('\\n')  # issiskiria kiekviena nauja eilute i list\n",
    "            isskaidyta = eilute.split(',') # isskaido eilutes teksta pagal kablelius\n",
    "            # print(isskaidyta)\n",
    " \n",
    "            studentas = dict(\n",
    "                vardas = isskaidyta[0],\n",
    "                pavarde = isskaidyta[1],\n",
    "                pazymiai = isskaidyta[2], # cia pazymiai yra string\n",
    "            )\n",
    "            studentai.append(studentas)\n",
    "\n",
    "    studentai.pop(0)#pirmas eilute yra antraste\n",
    "    for studentas in studentai:\n",
    "        pazymiai = list(map(int, studentas['pazymiai'].split())) # pakeicia pazymius i int\n",
    "        studentas['pazymiai'] = pazymiai \n",
    "    return studentai\n",
    "\n",
    "studentu_sarasas = nuskaitymas('Studentai_uzd1_2.txt')\n",
    "\n",
    "for stud in studentu_sarasas:\n",
    "    print(stud)"
   ]
  },
  {
   "cell_type": "markdown",
   "id": "99d69e4b",
   "metadata": {},
   "source": [
    "• Sukurkite funkciją su parametrais vidurkio >=5 patikrinimo sąlygai."
   ]
  },
  {
   "cell_type": "code",
   "execution_count": 82,
   "id": "fed79450",
   "metadata": {},
   "outputs": [
    {
     "name": "stdout",
     "output_type": "stream",
     "text": [
      "Studento Simas Simaitis vidurkis 8.4, jam leidziama laikyti egzamina\n",
      "Studento Jonas Jonaitis vidurkis 7.4, jam leidziama laikyti egzamina\n",
      "Studento Rokas Rokaitis vidurkis 3.5, jam neleidziama laikyti egzamina\n",
      "Studento Linas Linaitis vidurkis 7.3, jam leidziama laikyti egzamina\n",
      "Studento Aukse Auksaite vidurkis 8.9, jam leidziama laikyti egzamina\n",
      "Studento Karolina Karolaite vidurkis 3.9, jam neleidziama laikyti egzamina\n",
      "Studento Laimis Laimonaitis vidurkis 8.9, jam leidziama laikyti egzamina\n",
      "Studento Mantas Mantaitis vidurkis 7.9, jam leidziama laikyti egzamina\n",
      "Studento Ieva Ievaite vidurkis 5.8, jam leidziama laikyti egzamina\n",
      "Studento Tomas Tomaitis vidurkis 3.0, jam neleidziama laikyti egzamina\n",
      "Studento Greta Gretaitė vidurkis 9.8, jam leidziama laikyti egzamina\n",
      "Studento Dainius Dainiukas vidurkis 6.2, jam leidziama laikyti egzamina\n",
      "Studento Gabija Gabijaite vidurkis 8.8, jam leidziama laikyti egzamina\n",
      "Studento Tautvydas Tautvydaitis vidurkis 4.8, jam neleidziama laikyti egzamina\n",
      "Studento Agnė Agnaitė vidurkis 2.6, jam neleidziama laikyti egzamina\n",
      "Studento Egidijus Egidaitis vidurkis 8.9, jam leidziama laikyti egzamina\n",
      "Studento Dovilė Dovilaite vidurkis 5.8, jam leidziama laikyti egzamina\n",
      "Studento Aurimas Aurimaitis vidurkis 3.6, jam neleidziama laikyti egzamina\n",
      "Studento Justė Justaite vidurkis 8.2, jam leidziama laikyti egzamina\n",
      "Studento Paulius Paulaitis vidurkis 5.0, jam leidziama laikyti egzamina\n",
      "Studento Monika Monikaite vidurkis 9.2, jam leidziama laikyti egzamina\n",
      "Studento Domas Domaitis vidurkis 2.1, jam neleidziama laikyti egzamina\n",
      "Studento Rūta Rutaitė vidurkis 6.5, jam leidziama laikyti egzamina\n",
      "Studento Nerijus Nerijaitis vidurkis 8.4, jam leidziama laikyti egzamina\n",
      "Studento Ernestas Ernaitis vidurkis 5.0, jam leidziama laikyti egzamina\n",
      "Studento Aistė Aistaite vidurkis 2.3, jam neleidziama laikyti egzamina\n",
      "Studento Titas Titaitis vidurkis 9.8, jam leidziama laikyti egzamina\n",
      "Studento Aurelija Aurelaitė vidurkis 5.4, jam leidziama laikyti egzamina\n",
      "Studento Martynas Martynaitis vidurkis 7.1, jam leidziama laikyti egzamina\n",
      "Studento Lina Linaitė vidurkis 3.5, jam neleidziama laikyti egzamina\n",
      "Studento Raminta Ramintaite vidurkis 8.6, jam leidziama laikyti egzamina\n",
      "Studento Giedrius Giedraitis vidurkis 6.0, jam leidziama laikyti egzamina\n",
      "Studento Vilija Vilijaitė vidurkis 9.9, jam leidziama laikyti egzamina\n",
      "Studento Arnas Arnaitis vidurkis 1.8, jam neleidziama laikyti egzamina\n",
      "Studento Kotryna Kotrynaitė vidurkis 5.8, jam leidziama laikyti egzamina\n",
      "Studento Miglė Miglaite vidurkis 3.9, jam neleidziama laikyti egzamina\n",
      "Studento Jurgis Jurgaitis vidurkis 9.1, jam leidziama laikyti egzamina\n",
      "Studento Viltė Viltaite vidurkis 9.0, jam leidziama laikyti egzamina\n",
      "Studento Mindaugas Mindaugaitis vidurkis 7.1, jam leidziama laikyti egzamina\n",
      "Studento Sandra Sandraitė vidurkis 2.9, jam neleidziama laikyti egzamina\n",
      "Studento Žygimantas Zygis vidurkis 9.5, jam leidziama laikyti egzamina\n",
      "Studento Ema Emaitė vidurkis 5.6, jam leidziama laikyti egzamina\n",
      "Studento Kęstutis Kestas vidurkis 1.4, jam neleidziama laikyti egzamina\n",
      "Studento Vaida Vaidaitė vidurkis 6.9, jam leidziama laikyti egzamina\n",
      "Studento Irmantas Irmantaitis vidurkis 9.6, jam leidziama laikyti egzamina\n",
      "Studento Odeta Odetaitė vidurkis 5.9, jam leidziama laikyti egzamina\n",
      "Studento Saulius Sauliutis vidurkis 4.6, jam neleidziama laikyti egzamina\n",
      "Studento Neringa Neringaitė vidurkis 2.6, jam neleidziama laikyti egzamina\n",
      "Studento Gediminas Gedas vidurkis 8.0, jam leidziama laikyti egzamina\n",
      "Studento Aivaras Aivaraitis vidurkis 5.7, jam leidziama laikyti egzamina\n",
      "Studento Salomėja Salomėjaite vidurkis 9.9, jam leidziama laikyti egzamina\n",
      "---------------------------------------------\n",
      "Leido laikyti egzamina 36 studentams\n",
      "Neleido laikyti egzamina 15 studentams\n"
     ]
    }
   ],
   "source": [
    "def ivertinimas(sarasas):\n",
    "    leido = 0\n",
    "    neleido = 0\n",
    "\n",
    "    for studentas in sarasas:\n",
    "        vidurkis = round(sum(studentas['pazymiai']) / len(studentas['pazymiai']), 1)\n",
    "        studentas['vidurkis'] = vidurkis\n",
    "\n",
    "        if vidurkis >= 5:\n",
    "            studentas['Egzaminas'] = 'leidziama'\n",
    "            leido += 1\n",
    "        else:\n",
    "            studentas['Egzaminas'] = 'neleidziama'\n",
    "            neleido += 1\n",
    "\n",
    "    for studentas in studentai:\n",
    "        print(f'Studento {studentas[\"vardas\"]} {studentas[\"pavarde\"]} vidurkis {studentas[\"vidurkis\"]}, jam {studentas[\"Egzaminas\"]} laikyti egzamina')\n",
    "\n",
    "    print('---------------------------------------------')\n",
    "    print(f'Leido laikyti egzamina {leido} studentams')\n",
    "    print(f'Neleido laikyti egzamina {neleido} studentams')\n",
    "\n",
    "ivertinimas(studentu_sarasas)"
   ]
  },
  {
   "cell_type": "markdown",
   "id": "60d27043",
   "metadata": {},
   "source": [
    "• Spausdinkite duomenis eilutėmis į rezultatų failą – rezultatai.txt:"
   ]
  },
  {
   "cell_type": "code",
   "execution_count": 83,
   "id": "ef902f92",
   "metadata": {},
   "outputs": [],
   "source": [
    "with open('rezultatai.txt', 'w', encoding = 'utf8') as file: \n",
    "    file.write(f'Sarase yra {leido+neleido} studentas.\\n')\n",
    "    for studentas in studentai:\n",
    "        file.write(f'Vardas - {studentas[\"vardas\"]}, pavarde - {studentas[\"pavarde\"]}, vidurkis - {studentas[\"vidurkis\"]} \\n')\n",
    "    file.write(f'{leido} - studentams leidziama laikyti egzamina.\\n')\n",
    "    file.write(f'{neleido} - studentams neleidziama laikyti egzamina.\\n')"
   ]
  },
  {
   "cell_type": "markdown",
   "id": "7a99a20c",
   "metadata": {},
   "source": [
    "2 Užduotis – Studentai – antra dalis.\n",
    "\n",
    "• Nuskaitykite 1 užduoties rezultatų failą – rezultatai.txt"
   ]
  },
  {
   "cell_type": "code",
   "execution_count": 84,
   "id": "c625a061",
   "metadata": {},
   "outputs": [
    {
     "name": "stdout",
     "output_type": "stream",
     "text": [
      "[{'vardas': 'Simas', 'pavarde': 'Simaitis', 'vidurkis': 8.4}, {'vardas': 'Jonas', 'pavarde': 'Jonaitis', 'vidurkis': 7.4}, {'vardas': 'Rokas', 'pavarde': 'Rokaitis', 'vidurkis': 3.5}, {'vardas': 'Linas', 'pavarde': 'Linaitis', 'vidurkis': 7.3}, {'vardas': 'Aukse', 'pavarde': 'Auksaite', 'vidurkis': 8.9}, {'vardas': 'Karolina', 'pavarde': 'Karolaite', 'vidurkis': 3.9}, {'vardas': 'Laimis', 'pavarde': 'Laimonaitis', 'vidurkis': 8.9}, {'vardas': 'Mantas', 'pavarde': 'Mantaitis', 'vidurkis': 7.9}, {'vardas': 'Ieva', 'pavarde': 'Ievaite', 'vidurkis': 5.8}, {'vardas': 'Tomas', 'pavarde': 'Tomaitis', 'vidurkis': 3.0}, {'vardas': 'Greta', 'pavarde': 'Gretaitė', 'vidurkis': 9.8}, {'vardas': 'Dainius', 'pavarde': 'Dainiukas', 'vidurkis': 6.2}, {'vardas': 'Gabija', 'pavarde': 'Gabijaite', 'vidurkis': 8.8}, {'vardas': 'Tautvydas', 'pavarde': 'Tautvydaitis', 'vidurkis': 4.8}, {'vardas': 'Agnė', 'pavarde': 'Agnaitė', 'vidurkis': 2.6}, {'vardas': 'Egidijus', 'pavarde': 'Egidaitis', 'vidurkis': 8.9}, {'vardas': 'Dovilė', 'pavarde': 'Dovilaite', 'vidurkis': 5.8}, {'vardas': 'Aurimas', 'pavarde': 'Aurimaitis', 'vidurkis': 3.6}, {'vardas': 'Justė', 'pavarde': 'Justaite', 'vidurkis': 8.2}, {'vardas': 'Paulius', 'pavarde': 'Paulaitis', 'vidurkis': 5.0}, {'vardas': 'Monika', 'pavarde': 'Monikaite', 'vidurkis': 9.2}, {'vardas': 'Domas', 'pavarde': 'Domaitis', 'vidurkis': 2.1}, {'vardas': 'Rūta', 'pavarde': 'Rutaitė', 'vidurkis': 6.5}, {'vardas': 'Nerijus', 'pavarde': 'Nerijaitis', 'vidurkis': 8.4}, {'vardas': 'Ernestas', 'pavarde': 'Ernaitis', 'vidurkis': 5.0}, {'vardas': 'Aistė', 'pavarde': 'Aistaite', 'vidurkis': 2.3}, {'vardas': 'Titas', 'pavarde': 'Titaitis', 'vidurkis': 9.8}, {'vardas': 'Aurelija', 'pavarde': 'Aurelaitė', 'vidurkis': 5.4}, {'vardas': 'Martynas', 'pavarde': 'Martynaitis', 'vidurkis': 7.1}, {'vardas': 'Lina', 'pavarde': 'Linaitė', 'vidurkis': 3.5}, {'vardas': 'Raminta', 'pavarde': 'Ramintaite', 'vidurkis': 8.6}, {'vardas': 'Giedrius', 'pavarde': 'Giedraitis', 'vidurkis': 6.0}, {'vardas': 'Vilija', 'pavarde': 'Vilijaitė', 'vidurkis': 9.9}, {'vardas': 'Arnas', 'pavarde': 'Arnaitis', 'vidurkis': 1.8}, {'vardas': 'Kotryna', 'pavarde': 'Kotrynaitė', 'vidurkis': 5.8}, {'vardas': 'Miglė', 'pavarde': 'Miglaite', 'vidurkis': 3.9}, {'vardas': 'Jurgis', 'pavarde': 'Jurgaitis', 'vidurkis': 9.1}, {'vardas': 'Viltė', 'pavarde': 'Viltaite', 'vidurkis': 9.0}, {'vardas': 'Mindaugas', 'pavarde': 'Mindaugaitis', 'vidurkis': 7.1}, {'vardas': 'Sandra', 'pavarde': 'Sandraitė', 'vidurkis': 2.9}, {'vardas': 'Žygimantas', 'pavarde': 'Zygis', 'vidurkis': 9.5}, {'vardas': 'Ema', 'pavarde': 'Emaitė', 'vidurkis': 5.6}, {'vardas': 'Kęstutis', 'pavarde': 'Kestas', 'vidurkis': 1.4}, {'vardas': 'Vaida', 'pavarde': 'Vaidaitė', 'vidurkis': 6.9}, {'vardas': 'Irmantas', 'pavarde': 'Irmantaitis', 'vidurkis': 9.6}, {'vardas': 'Odeta', 'pavarde': 'Odetaitė', 'vidurkis': 5.9}, {'vardas': 'Saulius', 'pavarde': 'Sauliutis', 'vidurkis': 4.6}, {'vardas': 'Neringa', 'pavarde': 'Neringaitė', 'vidurkis': 2.6}, {'vardas': 'Gediminas', 'pavarde': 'Gedas', 'vidurkis': 8.0}, {'vardas': 'Aivaras', 'pavarde': 'Aivaraitis', 'vidurkis': 5.7}, {'vardas': 'Salomėja', 'pavarde': 'Salomėjaite', 'vidurkis': 9.9}]\n"
     ]
    }
   ],
   "source": [
    "rezultatai = []\n",
    "\n",
    "with open('rezultatai.txt', encoding=\"utf8\") as failas:\n",
    "        eilutes = failas.readlines() #paema visas eilutes is failo\n",
    "\n",
    "        for eilute in eilutes[1:-2]: # praleidzia pirma ir paskutines dvi\n",
    "            eilute = eilute.strip() # issikrauna eilutes \n",
    "            dalys = eilute.split(', ') # isskaidyti eilute pagal kablelius\n",
    "            vardas = dalys[0].split(' - ')[1] # paima 1ma value is listo, dalina i 2 elementus ir paima 2a elementa - studento varda\n",
    "            pavarde = dalys[1].split(' - ')[1]\n",
    "            vidurkis = float(dalys[2].split(' - ')[1])\n",
    "\n",
    "            studentas = {\n",
    "                'vardas': vardas,\n",
    "                'pavarde': pavarde,\n",
    "                'vidurkis': vidurkis\n",
    "            }\n",
    "            rezultatai.append(studentas)\n",
    "print(rezultatai)"
   ]
  },
  {
   "cell_type": "markdown",
   "id": "237443ce",
   "metadata": {},
   "source": [
    "• Raskite koks didžiausias ir koks mažiausias iš vidurkių.\n",
    "\n",
    "• PASUNKINIMAS: Raskite kurio studento/studentų vidurkis didžiausias ir\n",
    "spausdinkite jo/jų visu duomenis.\n",
    "\n",
    "• Atspausdinkite ir tarpinius rezultatus į ekraną."
   ]
  },
  {
   "cell_type": "code",
   "execution_count": 85,
   "id": "bda28e6e",
   "metadata": {},
   "outputs": [
    {
     "name": "stdout",
     "output_type": "stream",
     "text": [
      "Didziausias vidurkis 9.9\n",
      "Maziausias vidurkis 1.4\n",
      "---------------------------------------------\n",
      "Studentai turintys didziausia vidurki:\n",
      "Vilija Vilijaitė - 9.9\n",
      "Salomėja Salomėjaite - 9.9\n"
     ]
    }
   ],
   "source": [
    "didziausias=rezultatai[0]['vidurkis']\n",
    "maziausias=rezultatai[0]['vidurkis']\n",
    "\n",
    "for studentas in rezultatai:\n",
    "    if studentas['vidurkis'] > didziausias:\n",
    "        didziausias = studentas['vidurkis']\n",
    "    if studentas['vidurkis'] < maziausias:\n",
    "        maziausias = studentas['vidurkis']\n",
    "\n",
    "print(f'Didziausias vidurkis {didziausias}')\n",
    "print(f'Maziausias vidurkis {maziausias}')\n",
    "print('---------------------------------------------')\n",
    "#bandziau sukurt tuscia lista, ir per for loopa ideti geriausius studentus, bet nesigavo\n",
    "studentai_geriausi = [studentas for studentas in rezultatai if studentas['vidurkis'] == didziausias]\n",
    "\n",
    "print('Studentai turintys didziausia vidurki:')\n",
    "for studentas in studentai_geriausi:\n",
    "    print(f'{studentas[\"vardas\"]} {studentas[\"pavarde\"]} - {studentas[\"vidurkis\"]}')"
   ]
  },
  {
   "cell_type": "markdown",
   "id": "6a462bc2",
   "metadata": {},
   "source": [
    "• Sukurkite funkciją su parametrais failo nuskaitymui. "
   ]
  },
  {
   "cell_type": "code",
   "execution_count": 86,
   "id": "c649805e",
   "metadata": {},
   "outputs": [
    {
     "name": "stdout",
     "output_type": "stream",
     "text": [
      "[{'vardas': 'Simas', 'pavarde': 'Simaitis', 'vidurkis': 8.4}, {'vardas': 'Jonas', 'pavarde': 'Jonaitis', 'vidurkis': 7.4}, {'vardas': 'Rokas', 'pavarde': 'Rokaitis', 'vidurkis': 3.5}, {'vardas': 'Linas', 'pavarde': 'Linaitis', 'vidurkis': 7.3}, {'vardas': 'Aukse', 'pavarde': 'Auksaite', 'vidurkis': 8.9}, {'vardas': 'Karolina', 'pavarde': 'Karolaite', 'vidurkis': 3.9}, {'vardas': 'Laimis', 'pavarde': 'Laimonaitis', 'vidurkis': 8.9}, {'vardas': 'Mantas', 'pavarde': 'Mantaitis', 'vidurkis': 7.9}, {'vardas': 'Ieva', 'pavarde': 'Ievaite', 'vidurkis': 5.8}, {'vardas': 'Tomas', 'pavarde': 'Tomaitis', 'vidurkis': 3.0}, {'vardas': 'Greta', 'pavarde': 'Gretaitė', 'vidurkis': 9.8}, {'vardas': 'Dainius', 'pavarde': 'Dainiukas', 'vidurkis': 6.2}, {'vardas': 'Gabija', 'pavarde': 'Gabijaite', 'vidurkis': 8.8}, {'vardas': 'Tautvydas', 'pavarde': 'Tautvydaitis', 'vidurkis': 4.8}, {'vardas': 'Agnė', 'pavarde': 'Agnaitė', 'vidurkis': 2.6}, {'vardas': 'Egidijus', 'pavarde': 'Egidaitis', 'vidurkis': 8.9}, {'vardas': 'Dovilė', 'pavarde': 'Dovilaite', 'vidurkis': 5.8}, {'vardas': 'Aurimas', 'pavarde': 'Aurimaitis', 'vidurkis': 3.6}, {'vardas': 'Justė', 'pavarde': 'Justaite', 'vidurkis': 8.2}, {'vardas': 'Paulius', 'pavarde': 'Paulaitis', 'vidurkis': 5.0}, {'vardas': 'Monika', 'pavarde': 'Monikaite', 'vidurkis': 9.2}, {'vardas': 'Domas', 'pavarde': 'Domaitis', 'vidurkis': 2.1}, {'vardas': 'Rūta', 'pavarde': 'Rutaitė', 'vidurkis': 6.5}, {'vardas': 'Nerijus', 'pavarde': 'Nerijaitis', 'vidurkis': 8.4}, {'vardas': 'Ernestas', 'pavarde': 'Ernaitis', 'vidurkis': 5.0}, {'vardas': 'Aistė', 'pavarde': 'Aistaite', 'vidurkis': 2.3}, {'vardas': 'Titas', 'pavarde': 'Titaitis', 'vidurkis': 9.8}, {'vardas': 'Aurelija', 'pavarde': 'Aurelaitė', 'vidurkis': 5.4}, {'vardas': 'Martynas', 'pavarde': 'Martynaitis', 'vidurkis': 7.1}, {'vardas': 'Lina', 'pavarde': 'Linaitė', 'vidurkis': 3.5}, {'vardas': 'Raminta', 'pavarde': 'Ramintaite', 'vidurkis': 8.6}, {'vardas': 'Giedrius', 'pavarde': 'Giedraitis', 'vidurkis': 6.0}, {'vardas': 'Vilija', 'pavarde': 'Vilijaitė', 'vidurkis': 9.9}, {'vardas': 'Arnas', 'pavarde': 'Arnaitis', 'vidurkis': 1.8}, {'vardas': 'Kotryna', 'pavarde': 'Kotrynaitė', 'vidurkis': 5.8}, {'vardas': 'Miglė', 'pavarde': 'Miglaite', 'vidurkis': 3.9}, {'vardas': 'Jurgis', 'pavarde': 'Jurgaitis', 'vidurkis': 9.1}, {'vardas': 'Viltė', 'pavarde': 'Viltaite', 'vidurkis': 9.0}, {'vardas': 'Mindaugas', 'pavarde': 'Mindaugaitis', 'vidurkis': 7.1}, {'vardas': 'Sandra', 'pavarde': 'Sandraitė', 'vidurkis': 2.9}, {'vardas': 'Žygimantas', 'pavarde': 'Zygis', 'vidurkis': 9.5}, {'vardas': 'Ema', 'pavarde': 'Emaitė', 'vidurkis': 5.6}, {'vardas': 'Kęstutis', 'pavarde': 'Kestas', 'vidurkis': 1.4}, {'vardas': 'Vaida', 'pavarde': 'Vaidaitė', 'vidurkis': 6.9}, {'vardas': 'Irmantas', 'pavarde': 'Irmantaitis', 'vidurkis': 9.6}, {'vardas': 'Odeta', 'pavarde': 'Odetaitė', 'vidurkis': 5.9}, {'vardas': 'Saulius', 'pavarde': 'Sauliutis', 'vidurkis': 4.6}, {'vardas': 'Neringa', 'pavarde': 'Neringaitė', 'vidurkis': 2.6}, {'vardas': 'Gediminas', 'pavarde': 'Gedas', 'vidurkis': 8.0}, {'vardas': 'Aivaras', 'pavarde': 'Aivaraitis', 'vidurkis': 5.7}, {'vardas': 'Salomėja', 'pavarde': 'Salomėjaite', 'vidurkis': 9.9}]\n"
     ]
    }
   ],
   "source": [
    "def nuskaitymas1(document):\n",
    "    rezultatai = []\n",
    "\n",
    "    with open(document, encoding=\"utf8\") as failas:\n",
    "        eilutes = failas.readlines() #paema visas eilutes is failo\n",
    "\n",
    "        for eilute in eilutes[1:-2]:\n",
    "            eilute = eilute.strip()\n",
    "            dalys = eilute.split(', ') # isskaidyti eilute pagal kablelius\n",
    "            vardas = dalys[0].split(' - ')[1]\n",
    "            pavarde = dalys[1].split(' - ')[1]\n",
    "            vidurkis = float(dalys[2].split(' - ')[1])\n",
    "\n",
    "            studentas = {\n",
    "                'vardas': vardas,\n",
    "                'pavarde': pavarde,\n",
    "                'vidurkis': vidurkis\n",
    "            }\n",
    "            rezultatai.append(studentas)\n",
    "\n",
    "    return rezultatai\n",
    "\n",
    "studentu_vidurkiai = nuskaitymas1('rezultatai.txt')\n",
    "print(studentu_vidurkiai)"
   ]
  },
  {
   "cell_type": "markdown",
   "id": "7a9e1bb8",
   "metadata": {},
   "source": [
    "• Sukurkite funkciją didžiausio vidurkio radimui.\n"
   ]
  },
  {
   "cell_type": "code",
   "execution_count": 87,
   "id": "5ec6c506",
   "metadata": {},
   "outputs": [
    {
     "name": "stdout",
     "output_type": "stream",
     "text": [
      "Didziausias vidurkis 9.9\n"
     ]
    }
   ],
   "source": [
    "def didz_vidurkis(sarasas):\n",
    "    didziausias = sarasas[0]['vidurkis']\n",
    "\n",
    "    for studentas in sarasas:\n",
    "        if studentas['vidurkis'] > didziausias:\n",
    "            didziausias = studentas['vidurkis']\n",
    "    \n",
    "    return didziausias\n",
    "\n",
    "didz_vidurkis(rezultatai)\n",
    "\n",
    "print(f'Didziausias vidurkis {didz_vidurkis(rezultatai)}')\n"
   ]
  },
  {
   "cell_type": "markdown",
   "id": "7c595d35",
   "metadata": {},
   "source": [
    "• PASUNKINIMAS: Sukurkite funkciją studentų turinių tokį patį didžiausią vidurkį\n",
    "radimui."
   ]
  },
  {
   "cell_type": "code",
   "execution_count": 88,
   "id": "2c290d2a",
   "metadata": {},
   "outputs": [
    {
     "name": "stdout",
     "output_type": "stream",
     "text": [
      "Studentai turintys didziausia vidurki:\n",
      "Vilija Vilijaitė - 9.9\n",
      "Salomėja Salomėjaite - 9.9\n"
     ]
    }
   ],
   "source": [
    "def geriausi_studentai(sarasas, didziausias):\n",
    "    studentai_geriausi = [studentas for studentas in sarasas if studentas['vidurkis'] == didziausias]\n",
    "    return studentai_geriausi\n",
    "\n",
    "studentai_geriausi = geriausi_studentai(rezultatai, didz_vidurkis(rezultatai))\n",
    "print('Studentai turintys didziausia vidurki:')\n",
    "\n",
    "for studentas in studentai_geriausi:\n",
    "    print(f'{studentas[\"vardas\"]} {studentas[\"pavarde\"]} - {studentas[\"vidurkis\"]}')"
   ]
  },
  {
   "cell_type": "markdown",
   "id": "247e4d47",
   "metadata": {},
   "source": [
    "• Papildykite (append – ‚a‘ ) rezultatai.txt informacija, failo turinys turi atrodyti taip:"
   ]
  },
  {
   "cell_type": "code",
   "execution_count": 89,
   "id": "b52987a8",
   "metadata": {},
   "outputs": [],
   "source": [
    "with open('rezultatai.txt', 'a', encoding='utf-8') as failas:\n",
    "    failas.write('Studentai turintys didziausia vidurki:\\n')\n",
    "    for studentas in studentai_geriausi:\n",
    "        failas.write(f'{studentas[\"vardas\"]} {studentas[\"pavarde\"]} - {studentas[\"vidurkis\"]}\\n')\n",
    "    failas.write(f'Didziausias vidurkis {didz_vidurkis(rezultatai)}\\n')"
   ]
  }
 ],
 "metadata": {
  "kernelspec": {
   "display_name": "Python 3",
   "language": "python",
   "name": "python3"
  },
  "language_info": {
   "codemirror_mode": {
    "name": "ipython",
    "version": 3
   },
   "file_extension": ".py",
   "mimetype": "text/x-python",
   "name": "python",
   "nbconvert_exporter": "python",
   "pygments_lexer": "ipython3",
   "version": "3.10.11"
  }
 },
 "nbformat": 4,
 "nbformat_minor": 5
}
